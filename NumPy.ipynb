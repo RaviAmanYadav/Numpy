{
 "cells": [
  {
   "cell_type": "raw",
   "id": "f7b35a58-0f57-48d2-b58f-58aa7f0d8722",
   "metadata": {},
   "source": [
    "--> Numpy is the fundamental pakage for scitific computing in python \n",
    "--> It helps us to create multidimensional array."
   ]
  },
  {
   "cell_type": "markdown",
   "id": "dd2f2237-f625-4b02-8c03-f614704a6e97",
   "metadata": {},
   "source": [
    "# Numpy"
   ]
  },
  {
   "cell_type": "code",
   "execution_count": 1,
   "id": "026e00c9-e8c0-4113-a0d2-310bb26fd59a",
   "metadata": {},
   "outputs": [],
   "source": [
    "import numpy as np"
   ]
  },
  {
   "cell_type": "code",
   "execution_count": 2,
   "id": "5345f8cd-c63b-4c47-9da2-63b86caa47ba",
   "metadata": {},
   "outputs": [
    {
     "name": "stdout",
     "output_type": "stream",
     "text": [
      "Requirement already satisfied: numpy in c:\\users\\amanb\\documents\\data_science\\lib\\site-packages (1.26.4)\n"
     ]
    }
   ],
   "source": [
    "!pip install numpy"
   ]
  },
  {
   "cell_type": "code",
   "execution_count": 4,
   "id": "628b4030-2576-438a-bc74-9cf1890c0692",
   "metadata": {},
   "outputs": [
    {
     "name": "stdout",
     "output_type": "stream",
     "text": [
      "[10 20 30 40 50]\n"
     ]
    }
   ],
   "source": [
    "#Creation of 1D array\n",
    "arr = np.array([10,20,30,40,50])\n",
    "print(arr)"
   ]
  },
  {
   "cell_type": "code",
   "execution_count": 9,
   "id": "9bf898e4-eaca-4318-8b71-9effb52fc783",
   "metadata": {},
   "outputs": [
    {
     "name": "stdout",
     "output_type": "stream",
     "text": [
      "int32\n"
     ]
    }
   ],
   "source": [
    "print(arr.dtype)"
   ]
  },
  {
   "cell_type": "code",
   "execution_count": 8,
   "id": "05e58200-9c79-459f-a3e2-8ade89323d09",
   "metadata": {},
   "outputs": [
    {
     "name": "stdout",
     "output_type": "stream",
     "text": [
      "<class 'numpy.ndarray'>\n"
     ]
    }
   ],
   "source": [
    "print(type(arr))"
   ]
  },
  {
   "cell_type": "code",
   "execution_count": 14,
   "id": "7354d5fd-15bf-4d0d-862a-8d1c83bcb0b8",
   "metadata": {},
   "outputs": [
    {
     "name": "stdout",
     "output_type": "stream",
     "text": [
      "{40, 10, 20, 30}\n"
     ]
    }
   ],
   "source": [
    "arr2 = np.array({10,20,30,40})\n",
    "print(arr2)"
   ]
  },
  {
   "cell_type": "code",
   "execution_count": 15,
   "id": "cb1dd080-a6e0-4a08-983f-da05fcdddd26",
   "metadata": {},
   "outputs": [
    {
     "name": "stdout",
     "output_type": "stream",
     "text": [
      "object\n"
     ]
    }
   ],
   "source": [
    "print(arr2.dtype)"
   ]
  },
  {
   "cell_type": "code",
   "execution_count": 16,
   "id": "d173d662-ec48-489e-976a-1dbde1e9320f",
   "metadata": {},
   "outputs": [
    {
     "name": "stdout",
     "output_type": "stream",
     "text": [
      "<class 'numpy.ndarray'>\n"
     ]
    }
   ],
   "source": [
    "print(type(arr2))"
   ]
  },
  {
   "cell_type": "code",
   "execution_count": 17,
   "id": "3aea26fd-bf86-4798-936f-7f892fdf5a9e",
   "metadata": {},
   "outputs": [
    {
     "data": {
      "text/plain": [
       "1"
      ]
     },
     "execution_count": 17,
     "metadata": {},
     "output_type": "execute_result"
    }
   ],
   "source": [
    "arr.ndim"
   ]
  },
  {
   "cell_type": "code",
   "execution_count": 18,
   "id": "83648a5f-ef2b-42c1-9d79-7f7f021737e7",
   "metadata": {},
   "outputs": [
    {
     "name": "stdout",
     "output_type": "stream",
     "text": [
      "[[1 2 3]\n",
      " [2 3 4]\n",
      " [3 4 5]]\n"
     ]
    }
   ],
   "source": [
    "two_arr = np.array([[1,2,3],[2,3,4],[3,4,5]])\n",
    "print(two_arr)"
   ]
  },
  {
   "cell_type": "markdown",
   "id": "6fade9e7-23aa-4fc2-8760-abc8229cec3a",
   "metadata": {},
   "source": [
    "# Creation of different types of arrays"
   ]
  },
  {
   "cell_type": "code",
   "execution_count": 3,
   "id": "e04344d8-292b-4673-8d63-d4b9537a6e14",
   "metadata": {},
   "outputs": [
    {
     "name": "stdout",
     "output_type": "stream",
     "text": [
      "[1. 2. 3. 4.]\n"
     ]
    }
   ],
   "source": [
    "import numpy as np\n",
    "ar_num = np.array([1, 2, 3, 4], dtype=\"float\")\n",
    "print(ar_num)"
   ]
  },
  {
   "cell_type": "code",
   "execution_count": 4,
   "id": "81dbf7fd-f64f-484a-aa98-43348dfcf029",
   "metadata": {},
   "outputs": [],
   "source": [
    "ar_com = np.array([1, 2, 3, 4], dtype=\"complex\")"
   ]
  },
  {
   "cell_type": "code",
   "execution_count": 5,
   "id": "d2bc7f9b-d2f7-4f53-a35b-3d492264765d",
   "metadata": {},
   "outputs": [
    {
     "name": "stdout",
     "output_type": "stream",
     "text": [
      "[1.+0.j 2.+0.j 3.+0.j 4.+0.j]\n"
     ]
    }
   ],
   "source": [
    "print(ar_com)"
   ]
  },
  {
   "cell_type": "code",
   "execution_count": 8,
   "id": "2bc9d26d-2543-4951-8228-a04507b2491d",
   "metadata": {},
   "outputs": [
    {
     "name": "stdout",
     "output_type": "stream",
     "text": [
      "2\n",
      "4\n",
      "6\n",
      "8\n",
      "10\n",
      "12\n",
      "14\n",
      "16\n",
      "18\n",
      "20\n"
     ]
    }
   ],
   "source": [
    "# creating array with the help of arrange method\n",
    "i=1\n",
    "for i in range(1, 11):\n",
    "    print(2*i)\n"
   ]
  },
  {
   "cell_type": "code",
   "execution_count": 12,
   "id": "ec0da735-ec2d-42cd-a2b6-75586a9e3063",
   "metadata": {},
   "outputs": [
    {
     "name": "stdout",
     "output_type": "stream",
     "text": [
      "[ 1  2  3  4  5  6  7  8  9 10]\n"
     ]
    }
   ],
   "source": [
    "table = np.arange(1,11)\n",
    "print(table)"
   ]
  },
  {
   "cell_type": "code",
   "execution_count": 14,
   "id": "7b9129ee-7a7e-4c80-8c30-e8549f1ca381",
   "metadata": {},
   "outputs": [
    {
     "data": {
      "text/plain": [
       "array([ 2,  4,  6,  8, 10, 12, 14, 16, 18, 20])"
      ]
     },
     "execution_count": 14,
     "metadata": {},
     "output_type": "execute_result"
    }
   ],
   "source": [
    "x = np.arange(2,21,2)\n",
    "x"
   ]
  },
  {
   "cell_type": "code",
   "execution_count": 16,
   "id": "00d9cef6-7911-47a0-9b98-89b956c21b33",
   "metadata": {},
   "outputs": [
    {
     "data": {
      "text/plain": [
       "array([31, 34, 37, 40, 43, 46, 49])"
      ]
     },
     "execution_count": 16,
     "metadata": {},
     "output_type": "execute_result"
    }
   ],
   "source": [
    "# with reshape\n",
    "np.arange(31,52,3)"
   ]
  },
  {
   "cell_type": "code",
   "execution_count": 18,
   "id": "650d575d-f189-422c-9dd8-124c75f179ca",
   "metadata": {},
   "outputs": [
    {
     "data": {
      "text/plain": [
       "array([[31],\n",
       "       [34],\n",
       "       [37],\n",
       "       [40],\n",
       "       [43],\n",
       "       [46],\n",
       "       [49]])"
      ]
     },
     "execution_count": 18,
     "metadata": {},
     "output_type": "execute_result"
    }
   ],
   "source": [
    "np.arange(31,52,3).reshape(7,1)"
   ]
  },
  {
   "cell_type": "code",
   "execution_count": 19,
   "id": "ecf5c94a-fe22-46ed-ac7a-af7ba53c3878",
   "metadata": {},
   "outputs": [
    {
     "data": {
      "text/plain": [
       "array([[31, 34, 37, 40, 43, 46, 49]])"
      ]
     },
     "execution_count": 19,
     "metadata": {},
     "output_type": "execute_result"
    }
   ],
   "source": [
    "np.arange(31,52,3).reshape(1,7)"
   ]
  },
  {
   "cell_type": "code",
   "execution_count": 20,
   "id": "fc91ed52-e2df-471e-9d5c-8936c11624ae",
   "metadata": {},
   "outputs": [
    {
     "data": {
      "text/plain": [
       "array([1, 2, 3, 4, 5, 6])"
      ]
     },
     "execution_count": 20,
     "metadata": {},
     "output_type": "execute_result"
    }
   ],
   "source": [
    "np.arange(1,7)"
   ]
  },
  {
   "cell_type": "code",
   "execution_count": 21,
   "id": "a2a34878-29dc-4016-aa1b-aee7c349827b",
   "metadata": {},
   "outputs": [
    {
     "data": {
      "text/plain": [
       "array([[1, 2, 3],\n",
       "       [4, 5, 6]])"
      ]
     },
     "execution_count": 21,
     "metadata": {},
     "output_type": "execute_result"
    }
   ],
   "source": [
    "# possible combination for 2-D\n",
    "np.arange(1,7).reshape(2,3)"
   ]
  },
  {
   "cell_type": "code",
   "execution_count": 22,
   "id": "72652bfe-75ab-4f5e-963d-c43506af8848",
   "metadata": {},
   "outputs": [
    {
     "data": {
      "text/plain": [
       "array([[ 1,  2,  3,  4,  5,  6],\n",
       "       [ 7,  8,  9, 10, 11, 12]])"
      ]
     },
     "execution_count": 22,
     "metadata": {},
     "output_type": "execute_result"
    }
   ],
   "source": [
    "np.arange(1,13).reshape(2,6)"
   ]
  },
  {
   "cell_type": "code",
   "execution_count": 25,
   "id": "3539156e-4f24-4fe6-bae2-a317cb644dac",
   "metadata": {},
   "outputs": [
    {
     "data": {
      "text/plain": [
       "array([[ 1,  2],\n",
       "       [ 3,  4],\n",
       "       [ 5,  6],\n",
       "       [ 7,  8],\n",
       "       [ 9, 10],\n",
       "       [11, 12]])"
      ]
     },
     "execution_count": 25,
     "metadata": {},
     "output_type": "execute_result"
    }
   ],
   "source": [
    "np.arange(1,13).reshape(6,-1)"
   ]
  },
  {
   "cell_type": "code",
   "execution_count": 27,
   "id": "992a8e22-702e-47db-a0da-ed0e32446eea",
   "metadata": {},
   "outputs": [
    {
     "data": {
      "text/plain": [
       "array([[0., 0.],\n",
       "       [0., 0.],\n",
       "       [0., 0.],\n",
       "       [0., 0.],\n",
       "       [0., 0.],\n",
       "       [0., 0.],\n",
       "       [0., 0.],\n",
       "       [0., 0.],\n",
       "       [0., 0.],\n",
       "       [0., 0.]])"
      ]
     },
     "execution_count": 27,
     "metadata": {},
     "output_type": "execute_result"
    }
   ],
   "source": [
    "# create an arrays of zeros\n",
    "np.zeros((10,2))"
   ]
  },
  {
   "cell_type": "code",
   "execution_count": 34,
   "id": "4bc1eaf5-d370-4ba3-b3b3-12cadb7949b5",
   "metadata": {},
   "outputs": [
    {
     "data": {
      "text/plain": [
       "array([[1., 1.],\n",
       "       [1., 1.],\n",
       "       [1., 1.],\n",
       "       [1., 1.],\n",
       "       [1., 1.],\n",
       "       [1., 1.],\n",
       "       [1., 1.],\n",
       "       [1., 1.],\n",
       "       [1., 1.],\n",
       "       [1., 1.]])"
      ]
     },
     "execution_count": 34,
     "metadata": {},
     "output_type": "execute_result"
    }
   ],
   "source": [
    "x=np.ones((10,2))\n",
    "x"
   ]
  },
  {
   "cell_type": "code",
   "execution_count": 33,
   "id": "d9312292-7cb2-4a87-aa37-ce07c6e6bb3f",
   "metadata": {},
   "outputs": [
    {
     "name": "stdout",
     "output_type": "stream",
     "text": [
      "float64\n"
     ]
    }
   ],
   "source": [
    "print(x.dtype)"
   ]
  },
  {
   "cell_type": "code",
   "execution_count": 36,
   "id": "58be3da2-af01-46b8-8d76-1b99ab5ccc77",
   "metadata": {},
   "outputs": [
    {
     "data": {
      "text/plain": [
       "array([[1, 1, 1, 1, 1, 1, 1, 1, 1, 1],\n",
       "       [1, 1, 1, 1, 1, 1, 1, 1, 1, 1],\n",
       "       [1, 1, 1, 1, 1, 1, 1, 1, 1, 1],\n",
       "       [1, 1, 1, 1, 1, 1, 1, 1, 1, 1],\n",
       "       [1, 1, 1, 1, 1, 1, 1, 1, 1, 1],\n",
       "       [1, 1, 1, 1, 1, 1, 1, 1, 1, 1],\n",
       "       [1, 1, 1, 1, 1, 1, 1, 1, 1, 1],\n",
       "       [1, 1, 1, 1, 1, 1, 1, 1, 1, 1],\n",
       "       [1, 1, 1, 1, 1, 1, 1, 1, 1, 1],\n",
       "       [1, 1, 1, 1, 1, 1, 1, 1, 1, 1]])"
      ]
     },
     "execution_count": 36,
     "metadata": {},
     "output_type": "execute_result"
    }
   ],
   "source": [
    "np.ones((10,10), dtype=\"int\")"
   ]
  },
  {
   "cell_type": "code",
   "execution_count": 37,
   "id": "cf495288-ec67-435d-9278-5be6b2d02caa",
   "metadata": {},
   "outputs": [
    {
     "data": {
      "text/plain": [
       "array([0.39774983, 0.6662737 , 0.5129584 , 0.77355553, 0.42300824,\n",
       "       0.13895593, 0.60730374, 0.77692517, 0.02514931, 0.05355186])"
      ]
     },
     "execution_count": 37,
     "metadata": {},
     "output_type": "execute_result"
    }
   ],
   "source": [
    "# array of random element\n",
    "np.random.random(10)"
   ]
  },
  {
   "cell_type": "code",
   "execution_count": 47,
   "id": "b1ebe38a-c711-431e-8862-9a2f2d146618",
   "metadata": {},
   "outputs": [],
   "source": [
    "np.random.seed(3)"
   ]
  },
  {
   "cell_type": "code",
   "execution_count": 48,
   "id": "013cd841-b713-4c5f-9a86-dbbd4029f9e9",
   "metadata": {},
   "outputs": [
    {
     "data": {
      "text/plain": [
       "array([[0.5507979 , 0.70814782, 0.29090474, 0.51082761, 0.89294695],\n",
       "       [0.89629309, 0.12558531, 0.20724288, 0.0514672 , 0.44080984],\n",
       "       [0.02987621, 0.45683322, 0.64914405, 0.27848728, 0.6762549 ],\n",
       "       [0.59086282, 0.02398188, 0.55885409, 0.25925245, 0.4151012 ],\n",
       "       [0.28352508, 0.69313792, 0.44045372, 0.15686774, 0.54464902],\n",
       "       [0.78031476, 0.30636353, 0.22195788, 0.38797126, 0.93638365],\n",
       "       [0.97599542, 0.67238368, 0.90283411, 0.84575087, 0.37799404],\n",
       "       [0.09221701, 0.6534109 , 0.55784076, 0.36156476, 0.2250545 ],\n",
       "       [0.40651992, 0.46894025, 0.26923558, 0.29179277, 0.4576864 ],\n",
       "       [0.86053391, 0.5862529 , 0.28348786, 0.27797751, 0.45462208]])"
      ]
     },
     "execution_count": 48,
     "metadata": {},
     "output_type": "execute_result"
    }
   ],
   "source": [
    "np.random.random((10,5))"
   ]
  },
  {
   "cell_type": "code",
   "execution_count": 56,
   "id": "ba38ac98-3f46-406d-8830-7ee8f6ad448d",
   "metadata": {},
   "outputs": [
    {
     "data": {
      "text/plain": [
       "array([[8, 7, 9, 8, 6, 8, 5, 8, 5, 9],\n",
       "       [7, 6, 7, 8, 7, 7, 9, 6, 9, 7],\n",
       "       [6, 8, 6, 7, 7, 8, 6, 9, 7, 7],\n",
       "       [9, 9, 6, 8, 7, 9, 6, 7, 9, 9],\n",
       "       [5, 8, 6, 7, 6, 8, 8, 8, 7, 6]])"
      ]
     },
     "execution_count": 56,
     "metadata": {},
     "output_type": "execute_result"
    }
   ],
   "source": [
    "np.random.randint(5,10,(5,10))"
   ]
  },
  {
   "cell_type": "code",
   "execution_count": null,
   "id": "34f6b53f-e7ae-4fe8-85fc-78bfd484d081",
   "metadata": {},
   "outputs": [],
   "source": []
  }
 ],
 "metadata": {
  "kernelspec": {
   "display_name": "Python 3 (ipykernel)",
   "language": "python",
   "name": "python3"
  },
  "language_info": {
   "codemirror_mode": {
    "name": "ipython",
    "version": 3
   },
   "file_extension": ".py",
   "mimetype": "text/x-python",
   "name": "python",
   "nbconvert_exporter": "python",
   "pygments_lexer": "ipython3",
   "version": "3.12.7"
  }
 },
 "nbformat": 4,
 "nbformat_minor": 5
}
